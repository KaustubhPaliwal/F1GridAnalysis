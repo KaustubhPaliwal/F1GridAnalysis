{
 "cells": [
  {
   "cell_type": "markdown",
   "metadata": {},
   "source": [
    "# COGS 108 - Project Proposal"
   ]
  },
  {
   "cell_type": "markdown",
   "metadata": {},
   "source": [
    "# Names\n",
    "\n",
    "- Marlon Garay\n",
    "- Tyler Lee\n",
    "- Darief Maes\n",
    "- Kaustubh Paliwal"
   ]
  },
  {
   "cell_type": "markdown",
   "metadata": {},
   "source": [
    "# Research Question"
   ]
  },
  {
   "cell_type": "markdown",
   "metadata": {},
   "source": [
    "-  Include a specific, clear data science question.\n",
    "-  Make sure what you're measuring (variables) to answer the question is clear\n",
    "\n",
    "This question should be specific, answerable with data, and clear. A general question with specific subquestions is permitted. (1-2 sentences). When we read this we should know clearly what your project will be about\n",
    "\n",
    "Which starting grid positions have the highest likelihood of winning a race on each Formula 1 circuit, and how does this vary across different track types and rainy conditions?\n",
    "\n",
    "Variables to Measure\n",
    "\n",
    "- Grid Position: The starting position of each driver\n",
    "- Track/Circuit: Individual circuit characteristics (e.g., length, layout)\n",
    "- Race Outcome: Final race position of drivers\n",
    "- Track Type: Street versus permanent circuit (as categorically quantified by F1)\n",
    "- Rainy Conditions: Dry or rain\n",
    "- Lap 1 Leader: Person that led the race after lap 1"
   ]
  },
  {
   "cell_type": "markdown",
   "metadata": {},
   "source": [
    "## Background and Prior Work"
   ]
  },
  {
   "cell_type": "markdown",
   "metadata": {},
   "source": [
    "- Include a general introduction to your topic\n",
    "- Include explanation of what work has been done previously\n",
    "- Include citations or links to previous work\n",
    "\n",
    "This section will present the background and context of your topic and question in a few paragraphs. Include a general introduction to your topic and then describe what information you currently know about the topic after doing your initial research. Include references to other projects who have asked similar questions or approached similar problems. Explain what others have learned in their projects.\n",
    "\n",
    "Find some relevant prior work, and reference those sources, summarizing what each did and what they learned. Even if you think you have a totally novel question, find the most similar prior work that you can and discuss how it relates to your project.\n",
    "\n",
    "References can be research publications, but they need not be. Blogs, GitHub repositories, company websites, etc., are all viable references if they are relevant to your project. It must be clear which information comes from which references. (2-3 paragraphs, including at least 2 references)\n",
    "\n",
    " **Use inline citation through HTML footnotes to specify which references support which statements** \n",
    "\n",
    "For example: After government genocide in the 20th century, real birds were replaced with surveillance drones designed to look just like birds.<a name=\"cite_ref-1\"></a>[<sup>1</sup>](#cite_note-1) Use a minimum of 2 or 3 citations, but we prefer more.<a name=\"cite_ref-2\"></a>[<sup>2</sup>](#cite_note-2) You need enough to fully explain and back up important facts. \n",
    "\n",
    "Note that if you click a footnote number in the paragraph above it will transport you to the proper entry in the footnotes list below.  And if you click the ^ in the footnote entry, it will return you to the place in the main text where the footnote is made.\n",
    "\n",
    "To understand the HTML here, `<a name=\"#...\"> </a>` is a tag that allows you produce a named reference for a given location.  Markdown has the construciton `[text with hyperlink](#named reference)` that will produce a clickable link that transports you the named reference.\n",
    "\n",
    "1. <a name=\"cite_note-1\"></a> [^](#cite_ref-1) Lorenz, T. (9 Dec 2021) Birds Aren’t Real, or Are They? Inside a Gen Z Conspiracy Theory. *The New York Times*. https://www.nytimes.com/2021/12/09/technology/birds-arent-real-gen-z-misinformation.html \n",
    "2. <a name=\"cite_note-2\"></a> [^](#cite_ref-2) Also refs should be important to the background, not some randomly chosen vaguely related stuff. Include a web link if possible in refs as above.\n",
    "\n",
    "Formula 1 (F1) is a premier motorsports competition where the world’s top drivers and automotive manufacturers compete across a series of races on diverse tracks worldwide, vying for the championship title. The starting grid position for each driver is determined in a Saturday qualifying session held the day before the race. Starting grid position in Formula 1 (F1) undoubtedly affects the likelihood of winning a race. Common sense would indicate that starting in pole (first) position would give you the highest likelihood to win the race. Since overtaking is a challenging task that can be amplified on certain circuits, starting in a higher grid position provides a large advantage over lower positions.\n",
    "\n",
    "However, this may not always be the case as, historically, only about 40% of race winners started in pole position<a name=\"cite_ref-1\"></a>[<sup>1</sup>](#cite_note-1). This is backed up by data revealing that there is a negative average difference between starting grid position and final race position<a name=\"cite_ref-2\"></a>[<sup>2</sup>](#cite_note-2). These observations contribute to our understanding of how starting grid position affects the probability of winning a race. There is, however, room to determine which position provides the largest advantage on each circuit which can help F1 teams come up with different strategies to optimize their chances at success.\n",
    "\n",
    "1. <a name=\"cite_note-1\"></a> [^](#cite_ref-1) What is Pole Position in Formula 1 & Does it Matter? *Sport Makers*. https://www.sportmakers.co.uk/f1/what-is-pole-position-in-formula-1-does-it-matter/\n",
    "2. <a name=\"cite_note-2\"></a> [^](#cite_ref-2) Sanghi, Miguel. (17 Jun 2022) How much does qualifying affect the actual race in Formula 1? *Bruin Sports Analytics* https://www.bruinsportsanalytics.com/post/formula1_qualifying"
   ]
  },
  {
   "cell_type": "markdown",
   "metadata": {},
   "source": [
    "# Hypothesis\n"
   ]
  },
  {
   "cell_type": "markdown",
   "metadata": {},
   "source": [
    "\n",
    "- Put your hypothesis here, this is different than your question. This what you think the answer will be \n",
    "- Ensure that this hypothesis is clear to readers\n",
    "- Explain why you think this will be the outcome (what was your thinking?)\n",
    "\n",
    "If you question is \"What is the association between X and Y\" then a hypothesis might be \"We predict a strong correlation between X and Y\" or you might predict no correlation or any other possible relationship. Briefly explain your thinking. (2-3 sentences)\n",
    "\n",
    "We hypothesize that the likelihood of winning a race is highest for drivers who start in the top two (or front row) grid positions and maintain the lead after the first lap, especially on circuits with restricted overtaking opportunities, like Monaco or the Hungaroring. Specifically, we expect that starting grid position, first-lap lead status, and circuit type (street vs. traditional) will interact to shape race outcomes: drivers in the front row will have a significant advantage on overtaking-limited circuits, whereas on high-speed circuits with more overtaking zones, the impact of starting position may be reduced, making the first-lap lead a more dynamic variable. Additionally, we predict that weather conditions (such as rain) will further amplify the advantage of starting in a top position or leading after the first lap, as difficult conditions make it challenging for those starting further back to gain positions."
   ]
  },
  {
   "cell_type": "markdown",
   "metadata": {},
   "source": [
    "# Data"
   ]
  },
  {
   "cell_type": "markdown",
   "metadata": {},
   "source": [
    "1. Explain what the **ideal** dataset you would want to answer this question. (This should include: What variables? How many observations? Who/what/how would these data be collected? How would these data be stored/organized?)\n",
    "\n",
    "The ideal dataset to explore which starting grid position has the highest likelihood of winning a Formula 1 race, and how this varies across different track types and rainy conditions, should include race information such as race and circuit identifiers, race dates, and weather conditions on race day. It should also have the starting grid positions, driver details (including unique driver and team identifiers), and race outcomes like finishing positions and race winners. Key circuit characteristics, such as circuit type, length, number of laps, and altitude, would also be needed.\n",
    "\n",
    "For the observations; we need observations have data to go atleast 10 years back, and to have as many observations. We would also need multiple observations for each starting position to be able to see the trends, and if there was rain.\n",
    "\n",
    "We feel that a reliable weather organization should be the one with the collected weather information, while a reliable source for F1 information should be used for the F1 circuit data.\n",
    "\n",
    "We feel that the data needs to be in a csv format as it is readable for pandas, but we also need to have csv files that include the date and time for the weather so that it can be easily combined with the dates on the F1 dataset to form 1 dataframe.\n",
    "\n",
    "2. Search for potential **real** datasets that could provide you with something useful for this project.  You do not have to find every piece of data you will use, but you do need to have demonstrated some idea that (a) this data is gettable and (b) that this data may be different from what your ideal is.\n",
    "\n",
    "After searching for real datasets related to Formula 1, I found several potential sources that could provide valuable information for my project. One useful dataset is available on Kaggle, titled “Formula 1 World Championship” which has F1 data from 1950 to 2024). This has most of what we need except weather data We only need F1 data for 10 years back.\n",
    "\n",
    "There are also multiple datasets for weather availiable which has information on weather based on latitude and longitude to integrate with our F1 Data"
   ]
  },
  {
   "cell_type": "markdown",
   "metadata": {},
   "source": [
    "# Ethics & Privacy"
   ]
  },
  {
   "cell_type": "markdown",
   "metadata": {},
   "source": [
    "- Thoughtful discussion of ethical concerns included\n",
    "- Ethical concerns consider the whole data science process (question asked, data collected, data being used, the bias in data, analysis, post-analysis, etc.)\n",
    "- How your group handled bias/ethical concerns clearly described\n",
    "\n",
    "Acknowledge and address any ethics & privacy related issues of your question(s), proposed dataset(s), and/or analyses. Use the information provided in lecture to guide your group discussion and thinking. If you need further guidance, check out [Deon's Ethics Checklist](http://deon.drivendata.org/#data-science-ethics-checklist). In particular:\n",
    "\n",
    "- Are there any biases/privacy/terms of use issues with the data you propsed?\n",
    "- Are there potential biases in your dataset(s), in terms of who it composes, and how it was collected, that may be problematic in terms of it allowing for equitable analysis? (For example, does your data exclude particular populations, or is it likely to reflect particular human biases in a way that could be a problem?)\n",
    "- How will you set out to detect these specific biases before, during, and after/when communicating your analysis?\n",
    "- Are there any other issues related to your topic area, data, and/or analyses that are potentially problematic in terms of data privacy and equitable impact?\n",
    "- How will you handle issues you identified?\n",
    "\n",
    "There are no privacy concerns or terms of use issues regarding the date. The data is public racing data made available on Kaggle. Thereby, we have to responsibly use the data without reselling or republishing it. It is unlikely that the dataset is bias, as it just shows the recoded racing results and grid position. Based on this, we can pretty confidently say there is no bias as the sole type of data is recorded racing data. However, before working on our problem, we will ensure that there is no bias involved in the dataset based on team or driver. Using that, we can try to eliminate team and driver bias, allowing us to make objective conclusions.\n",
    "\n",
    "Besides team and driver bias, no other issues seem to be apparent based on our data set, as it is purely recording race results. Yet, if we do find something, we will figure out how it impacts our data. We can look back at a particular race to view if anything notable happened, skewing the results."
   ]
  },
  {
   "cell_type": "markdown",
   "metadata": {},
   "source": [
    "# Team Expectations "
   ]
  },
  {
   "cell_type": "markdown",
   "metadata": {},
   "source": [
    "\n",
    "Read over the [COGS108 Team Policies](https://github.com/COGS108/Projects/blob/master/COGS108_TeamPolicies.md) individually. Then, include your group’s expectations of one another for successful completion of your COGS108 project below. Discuss and agree on what all of your expectations are. Discuss how your team will communicate throughout the quarter and consider how you will communicate respectfully should conflicts arise. By including each member’s name above and by adding their name to the submission, you are indicating that you have read the COGS108 Team Policies, accept your team’s expectations below, and have every intention to fulfill them. These expectations are for your team’s use and benefit — they won’t be graded for their details.\n",
    "\n",
    "* Communication: Discord. Check regularly to ensure smooth communications. Let everyone know if you can't make a meeting. Texting as a backup to urgently contact someone.\n",
    "* Tone: Don't be negative. Be open to discussion.\n",
    "* Decision Making: Make sure everyone agrees and understands a procedure before moving on.\n",
    "* Tasks: Everyone does a bit of everything. Finish tasks the day before due date to ensure completion and allow time to edit. Complete assigned tasks.\n",
    "* Plan: Meet Mondays/Tuesdays 5 PM. Keep meeting summaries (posted Discord)."
   ]
  },
  {
   "cell_type": "markdown",
   "metadata": {},
   "source": [
    "# Project Timeline Proposal"
   ]
  },
  {
   "cell_type": "markdown",
   "metadata": {},
   "source": [
    "Specify your team's specific project timeline. An example timeline has been provided. Changes the dates, times, names, and details to fit your group's plan.\n",
    "\n",
    "If you think you will need any special resources or training outside what we have covered in COGS 108 to solve your problem, then your proposal should state these clearly. For example, if you have selected a problem that involves implementing multiple neural networks, please state this so we can make sure you know what you’re doing and so we can point you to resources you will need to implement your project. Note that you are not required to use outside methods.\n",
    "\n",
    "\n",
    "\n",
    "| Meeting Date | Meeting Time | Completed Before Meeting | Discuss at Meeting |\n",
    "|--------------|--------------|--------------------------|--------------------|\n",
    "| 10/28        | 5 PM        | Review COGS 108 project guidelines; brainstorm potential research questions related to F1 race dynamics | Decide on the final project question: \"What grid position, first-lap lead, and weather conditions most influence race outcomes?\" Formulate a hypothesis regarding the expected outcomes; assign preliminary research tasks to explore relevant factors. |\n",
    "| 11/4         | 5 PM        | Conduct background research on the impact of qualifying sessions, grid positions, first-lap performance, and historical race data | Review background findings; discuss the structure of the data and identify key variables (e.g., qualifying position, first-lap leader, circuit type, weather conditions) that will be included in the analysis; explore ethical considerations related to data use. |\n",
    "| 11/11        | 5 PM        | Edit and finalize project proposal; initiate a search for datasets focusing on qualifying results, race outcomes, and environmental factors | Confirm datasets from F1 kaggle dataset for analysis; assign initial data wrangling tasks; identify potential biases in the datasets, such as underrepresentation of certain circuits or conditions; discuss any additional resources needed for data manipulation. |\n",
    "| 11/18        | 5 PM        | Begin importing and cleaning d atasets; perform preliminary exploratory data analysis (EDA) to identify trends regarding how grid position and first-lap leads correlate with finishing positions | Review and finalize data wrangling and EDA findings; discuss the detailed analysis plan, including the statistical methods to be used (e.g., regression analysis, correlation coefficients); define how we will quantify the impact of weather conditions. |\n",
    "| 11/25        | 5 PM        | Complete data wrangling and detailed EDA; summarize insights on the relationship between grid positions, first-lap leads, weather conditions, and finishing positions | Finalize analysis methods; focus on how we will measure the impact of each variable, particularly considering how to account for circuit characteristics; address any additional tools or resources needed for advanced analysis, such as machine learning techniques if needed. |\n",
    "| 12/2         | 5 PM        | Complete analysis of the factors influencing race outcomes; draft preliminary findings that illustrate correlations and significant impacts of identified variables | Review initial analysis results, ensuring clear visualizations are prepared; revise the analysis if necessary and assign report drafting responsibilities for sections on methodology and results. |\n",
    "| 12/9         | 5 PM        | Refine analysis and ensure clarity of findings; complete drafts for results, discussion, and conclusions sections of the report | Review the full project draft for coherence and clarity; edit and finalize all sections, ensuring proper citations, clear visualizations, and thorough data interpretation. |\n",
    "| 12/11        | 11:59 PM Before Deadline | N/A | Submit final project report and complete group surveys; reflect on the project process and any lessons learned for future research; discuss potential areas for future exploration based on our findings. |"
   ]
  },
  {
   "cell_type": "code",
   "execution_count": null,
   "metadata": {},
   "outputs": [],
   "source": []
  }
 ],
 "metadata": {
  "kernelspec": {
   "display_name": "Python 3 (ipykernel)",
   "language": "python",
   "name": "python3"
  },
  "language_info": {
   "codemirror_mode": {
    "name": "ipython",
    "version": 3
   },
   "file_extension": ".py",
   "mimetype": "text/x-python",
   "name": "python",
   "nbconvert_exporter": "python",
   "pygments_lexer": "ipython3",
   "version": "3.11.9"
  }
 },
 "nbformat": 4,
 "nbformat_minor": 4
}
